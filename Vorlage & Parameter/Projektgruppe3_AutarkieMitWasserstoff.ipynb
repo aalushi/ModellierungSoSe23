{
 "cells": [
  {
   "cell_type": "code",
   "execution_count": 1,
   "id": "2b5aa738",
   "metadata": {},
   "outputs": [],
   "source": [
    "import numpy as np \n",
    "import pandas as pd\n",
    "import pypsa"
   ]
  },
  {
   "cell_type": "code",
   "execution_count": 9,
   "id": "90964b30",
   "metadata": {},
   "outputs": [],
   "source": [
    "# define datasets\n",
    "# df_loads[heat] and df_loads[electrical]\n",
    "# df_generation"
   ]
  },
  {
   "cell_type": "code",
   "execution_count": 12,
   "id": "b552b08b",
   "metadata": {},
   "outputs": [],
   "source": [
    "# define design parameters in dictionarys for pv, grid, electrolysis, fuellcell, heatpump, storages \n",
    "pv_params = {\n",
    "    'p_nom': 10,\n",
    "    'p_max_pu': [0.9, 0.8, 0.5],\n",
    "    'p_min_pu': [0.9, 0.8, 0.5],\n",
    "    'capital_cost': 1000,\n",
    "    'marginal_cost': 400\n",
    "}\n",
    "\n"
   ]
  },
  {
   "cell_type": "code",
   "execution_count": 4,
   "id": "aa182824",
   "metadata": {},
   "outputs": [],
   "source": [
    "# define reference Network\n",
    "ref_network = pypsa.Network()\n",
    "ref_network.set_snapshots(range(8760))\n",
    "\n",
    "# buses\n",
    "ref_network.add('Bus', name='generator_bus', carrier='AC')\n",
    "ref_network.add('Bus', name='storage_bus', carrier='AC')\n",
    "ref_network.add('Bus', name='electricity_bus', carrier='AC')\n",
    "ref_network.add('Bus', name='heat_bus', carrier='heat')\n",
    "\n",
    "# generators\n",
    "ref_network.add('Generator', name='PV', bus='generator_bus', carrier='AC')\n",
    "ref_network.add('Generator', name='grid', bus='generator_bus', carrier='AC')\n",
    "\n",
    "# loads\n",
    "ref_network.add('Load', name='electrical_load', bus='electricity_bus', carrier='AC')\n",
    "ref_network.add('Load', name='heat_load', bus='heat_bus', carrier='heat')\n",
    "\n",
    "# storage\n",
    "ref_network.add('Store', name='battery', bus=\"storage_bus\", carrier='AC')\n",
    "\n",
    "# links (energy transitions)\n",
    "ref_network.add('Link', name='heat_pump', bus0='storage_bus', bus1='heat_bus')\n",
    "ref_network.add('Link', name='house_grid1', bus0='generator_bus', bus1='storage_bus')\n",
    "ref_network.add('Link', name='house_grid2', bus0='storage_bus', bus1='electricity_bus')"
   ]
  },
  {
   "cell_type": "code",
   "execution_count": 6,
   "id": "b7d4e8ed",
   "metadata": {},
   "outputs": [],
   "source": [
    "# define analyse Network\n",
    "main_network = pypsa.Network()\n",
    "main_network.set_snapshots(range(8760))\n",
    "\n",
    "# buses\n",
    "main_network.add('Bus', name='generator_bus', carrier='AC')\n",
    "main_network.add('Bus', name='storage_bus', carrier='AC')\n",
    "main_network.add('Bus', name='electricity_bus', carrier='AC')\n",
    "main_network.add('Bus', name='heat_bus', carrier='heat')\n",
    "main_network.add('Bus', name='hydrogen_bus', carrier='hydrogen')\n",
    "\n",
    "# generators\n",
    "main_network.add('Generator', name='PV', bus='generator_bus', carrier='AC')\n",
    "main_network.add('Generator', name='grid', bus='generator_bus', carrier='AC')\n",
    "\n",
    "# loads\n",
    "main_network.add('Load', name='electrical_load', bus='electricity_bus', carrier='AC')\n",
    "main_network.add('Load', name='heat_load', bus='heat_bus', carrier='heat')\n",
    "\n",
    "# storage\n",
    "main_network.add('Store', name='battery', bus=\"storage_bus\", carrier='AC')\n",
    "main_network.add('Store', name='hydrogen_storage', bus=\"hydrogen_bus\", carrier='hydrogen')\n",
    "\n",
    "# links (energy transitions)\n",
    "main_network.add('Link', name='heat_pump', bus0='storage_bus', bus1='heat_bus')\n",
    "main_network.add('Link', name='house_grid1', bus0='generator_bus', bus1='storage_bus')\n",
    "main_network.add('Link', name='house_grid2', bus0='storage_bus', bus1='electricity_bus')\n",
    "main_network.add('Link', name='electrolysis', bus0='storage_bus', bus1='hydrogen_bus')\n",
    "main_network.add('Link', name='fuelcell', bus0='hydrogen_bus', bus1='storage_bus')"
   ]
  },
  {
   "cell_type": "code",
   "execution_count": null,
   "id": "be055bd0",
   "metadata": {},
   "outputs": [],
   "source": []
  }
 ],
 "metadata": {
  "kernelspec": {
   "display_name": "Python 3 (ipykernel)",
   "language": "python",
   "name": "python3"
  },
  "language_info": {
   "codemirror_mode": {
    "name": "ipython",
    "version": 3
   },
   "file_extension": ".py",
   "mimetype": "text/x-python",
   "name": "python",
   "nbconvert_exporter": "python",
   "pygments_lexer": "ipython3",
   "version": "3.9.16"
  },
  "toc": {
   "base_numbering": 1,
   "nav_menu": {},
   "number_sections": true,
   "sideBar": true,
   "skip_h1_title": false,
   "title_cell": "Table of Contents",
   "title_sidebar": "Contents",
   "toc_cell": false,
   "toc_position": {},
   "toc_section_display": true,
   "toc_window_display": false
  },
  "varInspector": {
   "cols": {
    "lenName": 16,
    "lenType": 16,
    "lenVar": 40
   },
   "kernels_config": {
    "python": {
     "delete_cmd_postfix": "",
     "delete_cmd_prefix": "del ",
     "library": "var_list.py",
     "varRefreshCmd": "print(var_dic_list())"
    },
    "r": {
     "delete_cmd_postfix": ") ",
     "delete_cmd_prefix": "rm(",
     "library": "var_list.r",
     "varRefreshCmd": "cat(var_dic_list()) "
    }
   },
   "types_to_exclude": [
    "module",
    "function",
    "builtin_function_or_method",
    "instance",
    "_Feature"
   ],
   "window_display": false
  }
 },
 "nbformat": 4,
 "nbformat_minor": 5
}
